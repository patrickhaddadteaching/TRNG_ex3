{
 "cells": [
  {
   "cell_type": "code",
   "execution_count": null,
   "metadata": {},
   "outputs": [],
   "source": [
    "from ipywidgets import widgets\n",
    "import numpy as np\n",
    "from functools import partial\n",
    "from zipfile import ZipFile\n",
    "from h5py import File as h5py_File\n",
    "from os import remove"
   ]
  },
  {
   "cell_type": "code",
   "execution_count": null,
   "metadata": {},
   "outputs": [],
   "source": [
    "width_png=547\n",
    "height_png=400"
   ]
  },
  {
   "cell_type": "code",
   "execution_count": null,
   "metadata": {},
   "outputs": [],
   "source": [
    "image_height=250\n",
    "image_width=int(width_png*image_height/height_png)\n",
    "tests_results_width=300"
   ]
  },
  {
   "cell_type": "code",
   "execution_count": null,
   "metadata": {},
   "outputs": [],
   "source": [
    "s_data_file_name='data_for_ex3'"
   ]
  },
  {
   "cell_type": "code",
   "execution_count": null,
   "metadata": {},
   "outputs": [],
   "source": [
    "try:\n",
    "    import google.colab\n",
    "    IN_COLAB = True\n",
    "except:\n",
    "    IN_COLAB = False\n",
    "if IN_COLAB:\n",
    "    system('wget https://github.com/patrickhaddadteaching/TRNG_ex3/raw/main/data/data_for_ex3.zip')    "
   ]
  },
  {
   "cell_type": "code",
   "execution_count": null,
   "metadata": {},
   "outputs": [],
   "source": [
    "IN_COLAB"
   ]
  },
  {
   "cell_type": "code",
   "execution_count": null,
   "metadata": {},
   "outputs": [],
   "source": [
    "path_to_zip_file='%s.zip'%(s_data_file_name)\n",
    "zip_ref=ZipFile(path_to_zip_file, 'r')\n",
    "zip_ref.extractall('.')"
   ]
  },
  {
   "cell_type": "code",
   "execution_count": null,
   "metadata": {},
   "outputs": [],
   "source": [
    "hdf5_file = '%s.h5'%s_data_file_name\n",
    "data_file = h5py_File(hdf5_file,'r')\n",
    "v_ratio_period_sample_for_interact=np.array(data_file['parameters/v_ratio_period_sample'][0,:],dtype=np.uint32)\n",
    "v_jitter_for_interact=data_file['parameters/v_jitter'][0,:]\n",
    "v_raw_rng_image=data_file['images/rng_image'][0,:]\n",
    "m_proba1=data_file['raw_proba/m_proba1'][:]\n",
    "data_file.close()\n",
    "remove('%s'%hdf5_file)\n",
    "nb_osc=m_proba1.shape[0]"
   ]
  },
  {
   "cell_type": "code",
   "execution_count": null,
   "metadata": {},
   "outputs": [],
   "source": [
    "def compute_proba_xor(m_value,i_jitter,i_per_sample):\n",
    "    pxor=0.5+((-2)**(m_value-1))*(m_proba1[:m_value,i_jitter,i_per_sample]-0.5).prod()\n",
    "    return pxor"
   ]
  },
  {
   "cell_type": "code",
   "execution_count": null,
   "metadata": {},
   "outputs": [],
   "source": [
    "tests_results_value='<p><b>Shannon entropy VALUE: H<sub>1</sub>=</b></p>'\n",
    "tests_results_value='%s<p><b>Min entropy VALUE: H<sub>&#8734</sub>=</b></p>'%(tests_results_value)\n",
    "\n",
    "v_std_dev_value_widgets_option=[]\n",
    "for i in range(v_jitter_for_interact.shape[0]):\n",
    "    v_std_dev_value_widgets_option.append('%.2e'%(v_jitter_for_interact[i]))\n",
    "std_dev_value_widgets=widgets.SelectionSlider(description=r'$\\frac{\\sigma_{tot}}{T_{1}}$',options=v_std_dev_value_widgets_option,layout=widgets.Layout(width='%dpx'%(image_width)))\n",
    "\n",
    "sample_period_value_widgets=widgets.SelectionSlider(description=r'$D$',options=list(v_ratio_period_sample_for_interact),layout=widgets.Layout(width='%dpx'%(image_width)))\n",
    "m_value_widgets=widgets.SelectionSlider(description=r'$m$',options=list(np.arange(nb_osc,dtype=np.uint8)+1),layout=widgets.Layout(width='%dpx'%(image_width)))\n",
    "rng_image=widgets.Image(value=v_raw_rng_image.tobytes(), format='png',layout=widgets.Layout(height='%dpx'%(image_height),width='%dpx'%image_width))\n",
    "tests_results=widgets.HTML(value=tests_results_value,placeholder='',description='',disabled=True,layout=widgets.Layout(height='%dpx'%(image_height/6),width='auto'))\n",
    "\n",
    "space_for_tests_results_left=widgets.HTML(value='',placeholder='',description='',disabled=True,layout=widgets.Layout(height='%dpx'%(image_height/3),width='%dpx'%(image_height/8) ))\n",
    "space_for_tests_results_top=widgets.HTML(value='',placeholder='',description='',disabled=True,layout=tests_results.layout)\n",
    "\n",
    "def change_on_param(obj):\n",
    "    if obj['new']:\n",
    "        px=compute_proba_xor(int(m_value_widgets.value),v_std_dev_value_widgets_option.index(std_dev_value_widgets.value),np.where(sample_period_value_widgets.value==v_ratio_period_sample_for_interact)[0][0])\n",
    "        if (px*(1-px))==0:\n",
    "            hs=0\n",
    "            hm=0\n",
    "        else:\n",
    "            hs=((px)*np.log2(px)+(1-px)*np.log2(1-px))*-1\n",
    "            hm=-1*np.log2(max([px,1-px]))\n",
    "            \n",
    "        tests_results_value='<p><b>Shannon entropy VALUE: H<sub>1</sub>=%.3f </b></p>'%(hs)\n",
    "        tests_results_value='%s<p><b>Min entropy VALUE: H<sub>&#8734</sub>=%.3f</b></p>'%(tests_results_value,hm)\n",
    "        tests_results.value=tests_results_value\n",
    "\n",
    "        \n",
    "m_value_widgets.observe(partial(change_on_param),'value')\n",
    "sample_period_value_widgets.observe(partial(change_on_param),'value')\n",
    "std_dev_value_widgets.observe(partial(change_on_param),'value')\n",
    "\n",
    "v_box_top=widgets.HBox([rng_image,widgets.VBox([space_for_tests_results_top,widgets.HBox([space_for_tests_results_left,tests_results]),m_value_widgets,std_dev_value_widgets,sample_period_value_widgets])])\n",
    "display(v_box_top)"
   ]
  }
 ],
 "metadata": {
  "kernelspec": {
   "display_name": "Python 3 (ipykernel)",
   "language": "python",
   "name": "python3"
  },
  "language_info": {
   "codemirror_mode": {
    "name": "ipython",
    "version": 3
   },
   "file_extension": ".py",
   "mimetype": "text/x-python",
   "name": "python",
   "nbconvert_exporter": "python",
   "pygments_lexer": "ipython3",
   "version": "3.9.12"
  }
 },
 "nbformat": 4,
 "nbformat_minor": 2
}
